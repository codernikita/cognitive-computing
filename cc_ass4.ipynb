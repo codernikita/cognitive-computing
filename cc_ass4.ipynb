{
  "nbformat": 4,
  "nbformat_minor": 0,
  "metadata": {
    "colab": {
      "provenance": [],
      "authorship_tag": "ABX9TyPR3jrIwrzPiRgKjnRxJ3xg",
      "include_colab_link": true
    },
    "kernelspec": {
      "name": "python3",
      "display_name": "Python 3"
    },
    "language_info": {
      "name": "python"
    }
  },
  "cells": [
    {
      "cell_type": "markdown",
      "metadata": {
        "id": "view-in-github",
        "colab_type": "text"
      },
      "source": [
        "<a href=\"https://colab.research.google.com/github/codernikita/cognitive-computing/blob/main/cc_ass4.ipynb\" target=\"_parent\"><img src=\"https://colab.research.google.com/assets/colab-badge.svg\" alt=\"Open In Colab\"/></a>"
      ]
    },
    {
      "cell_type": "markdown",
      "source": [
        "QUE1:"
      ],
      "metadata": {
        "id": "cJ9s_7_HQHuK"
      }
    },
    {
      "cell_type": "code",
      "execution_count": 3,
      "metadata": {
        "colab": {
          "base_uri": "https://localhost:8080/"
        },
        "id": "lrhQKK-8LlWH",
        "outputId": "69a7ead5-1a59-4c0e-d689-159e379240f1"
      },
      "outputs": [
        {
          "output_type": "stream",
          "name": "stdout",
          "text": [
            "normal array:\n",
            "[1 2 3 4 5]\n",
            "array after addition of 2:\n",
            "[3 4 5 6 7]\n",
            "array after multiplication with 3:\n",
            "[ 3  6  9 12 15]\n",
            "after after division by 2:\n",
            "[0.5 1.  1.5 2.  2.5]\n"
          ]
        }
      ],
      "source": [
        "import numpy as np\n",
        "arr1=np.array([1,2,3,4,5])\n",
        "print(\"normal array:\")\n",
        "print(arr1)\n",
        "arr2=arr1+2\n",
        "print(\"array after addition of 2:\")\n",
        "print(arr2)\n",
        "arr3=arr1*3\n",
        "print(\"array after multiplication with 3:\")\n",
        "print(arr3)\n",
        "arr4=arr1/2\n",
        "print(\"after after division by 2:\")\n",
        "print(arr4)\n"
      ]
    },
    {
      "cell_type": "markdown",
      "source": [
        "QUE2:\n"
      ],
      "metadata": {
        "id": "fLBmaas9QLz4"
      }
    },
    {
      "cell_type": "code",
      "source": [
        "arr=np.array([1,2,3,6,4,5])\n",
        "rev_arr=arr[::-1]\n",
        "print(\"reversed array:\")\n",
        "print(rev_arr)\n"
      ],
      "metadata": {
        "colab": {
          "base_uri": "https://localhost:8080/"
        },
        "id": "EZ8TNmmjMerJ",
        "outputId": "a914c2dc-a363-4ac2-b3fa-3e3a9ac3daac"
      },
      "execution_count": 7,
      "outputs": [
        {
          "output_type": "stream",
          "name": "stdout",
          "text": [
            "reversed array:\n",
            "[5 4 6 3 2 1]\n"
          ]
        }
      ]
    },
    {
      "cell_type": "code",
      "source": [
        "x = np.array([1,2,3,4,5,1,2,1,1,1])\n",
        "dic1={}\n",
        "for i in x:\n",
        "  if i in dic1:\n",
        "    dic1[i]+=1\n",
        "  else:\n",
        "    dic1[i]=1\n",
        "print(dic1)\n",
        "for i in dic1:\n",
        "  if dic1[i]==max(dic1.values()):\n",
        "    j=i\n",
        "    print(j)\n",
        "    print(f\"the most occuring value is {i} and its frequecy is {dic1[i]}\")\n",
        "h=0\n",
        "for k in x:\n",
        "    if k==j:\n",
        "      print(f\"the index is:{h}\")\n",
        "    h=h+1\n",
        "\n",
        ""
      ],
      "metadata": {
        "colab": {
          "base_uri": "https://localhost:8080/"
        },
        "id": "XsmIz51qQPbK",
        "outputId": "8e21e0c7-26d3-4330-a20d-08a2611af947"
      },
      "execution_count": 31,
      "outputs": [
        {
          "output_type": "stream",
          "name": "stdout",
          "text": [
            "{1: 5, 2: 2, 3: 1, 4: 1, 5: 1}\n",
            "1\n",
            "the most occuring value is 1 and its frequecy is 5\n",
            "the index is:0\n",
            "the index is:5\n",
            "the index is:7\n",
            "the index is:8\n",
            "the index is:9\n"
          ]
        }
      ]
    },
    {
      "cell_type": "code",
      "source": [
        "x = np.array([1,1,1,2,3,4,2,4,3,3])\n",
        "dic1={}\n",
        "for i in x:\n",
        "  if i in dic1:\n",
        "    dic1[i]+=1\n",
        "  else:\n",
        "    dic1[i]=1\n",
        "print(dic1)\n",
        "for i in dic1:\n",
        "  if dic1[i]==max(dic1.values()):\n",
        "    j=i\n",
        "    print(j)\n",
        "    print(f\"the most occuring value is {i} and its frequecy is {dic1[i]}\")\n",
        "    h=0\n",
        "    for k in x:\n",
        "      if k==j:\n",
        "       print(f\"the index is:{h}\")\n",
        "      h=h+1\n"
      ],
      "metadata": {
        "colab": {
          "base_uri": "https://localhost:8080/"
        },
        "id": "UM9hXd4DaNb8",
        "outputId": "b9d904a9-60e3-47eb-ce31-a2307e406f9e"
      },
      "execution_count": 33,
      "outputs": [
        {
          "output_type": "stream",
          "name": "stdout",
          "text": [
            "{1: 3, 2: 2, 3: 3, 4: 2}\n",
            "1\n",
            "the most occuring value is 1 and its frequecy is 3\n",
            "the index is:0\n",
            "the index is:1\n",
            "the index is:2\n",
            "3\n",
            "the most occuring value is 3 and its frequecy is 3\n",
            "the index is:4\n",
            "the index is:8\n",
            "the index is:9\n"
          ]
        }
      ]
    },
    {
      "cell_type": "markdown",
      "source": [
        "QUE3:"
      ],
      "metadata": {
        "id": "AXX7kh4rbiEB"
      }
    },
    {
      "cell_type": "code",
      "source": [
        "arr=np.array([[10, 20, 30], [40, 50, 60], [70, 80, 90]])\n",
        "print(arr)\n",
        "print(f\"first row and second column is:{arr[0,1]}\")\n",
        "print(f\"third row and first column is:{arr[2,0]}\")\n"
      ],
      "metadata": {
        "colab": {
          "base_uri": "https://localhost:8080/"
        },
        "id": "u038qz7UbgIt",
        "outputId": "f83712fe-2da5-4826-e439-485639448862"
      },
      "execution_count": 39,
      "outputs": [
        {
          "output_type": "stream",
          "name": "stdout",
          "text": [
            "[[10 20 30]\n",
            " [40 50 60]\n",
            " [70 80 90]]\n",
            "first row and second column is:20\n",
            "third row and first column is:70\n"
          ]
        }
      ]
    },
    {
      "cell_type": "code",
      "source": [
        "\n",
        "Coder_Nikita = np.linspace(10, 100, 25)\n",
        "print(Coder_Nikita)\n",
        "print(f\" the dimension is:{Coder_Nikita.ndim}\")\n",
        "print(f\"the size is:{Coder_Nikita.size}\")\n",
        "print(f\"the shape is:{Coder_Nikita.shape}\")\n",
        "print(f\"the data type is:{Coder_Nikita.dtype}\")\n",
        "print(f\"the item size is:{Coder_Nikita.itemsize} and total size consumed is {Coder_Nikita.itemsize*Coder_Nikita.size}\")\n",
        "arr_new=Coder_Nikita.reshape(25,1)\n",
        "print(arr_new)\n",
        "Coder_Nikita.T\n"
      ],
      "metadata": {
        "colab": {
          "base_uri": "https://localhost:8080/"
        },
        "id": "iidUiPXpdZZG",
        "outputId": "75639b04-f701-4bbd-b276-748c4021bd7d"
      },
      "execution_count": 57,
      "outputs": [
        {
          "output_type": "stream",
          "name": "stdout",
          "text": [
            "[ 10.    13.75  17.5   21.25  25.    28.75  32.5   36.25  40.    43.75\n",
            "  47.5   51.25  55.    58.75  62.5   66.25  70.    73.75  77.5   81.25\n",
            "  85.    88.75  92.5   96.25 100.  ]\n",
            " the dimension is:1\n",
            "the size is:25\n",
            "the shape is:(25,)\n",
            "the data type is:float64\n",
            "the item size is:8 and total size consumed is 200\n",
            "[[ 10.  ]\n",
            " [ 13.75]\n",
            " [ 17.5 ]\n",
            " [ 21.25]\n",
            " [ 25.  ]\n",
            " [ 28.75]\n",
            " [ 32.5 ]\n",
            " [ 36.25]\n",
            " [ 40.  ]\n",
            " [ 43.75]\n",
            " [ 47.5 ]\n",
            " [ 51.25]\n",
            " [ 55.  ]\n",
            " [ 58.75]\n",
            " [ 62.5 ]\n",
            " [ 66.25]\n",
            " [ 70.  ]\n",
            " [ 73.75]\n",
            " [ 77.5 ]\n",
            " [ 81.25]\n",
            " [ 85.  ]\n",
            " [ 88.75]\n",
            " [ 92.5 ]\n",
            " [ 96.25]\n",
            " [100.  ]]\n"
          ]
        },
        {
          "output_type": "execute_result",
          "data": {
            "text/plain": [
              "array([ 10.  ,  13.75,  17.5 ,  21.25,  25.  ,  28.75,  32.5 ,  36.25,\n",
              "        40.  ,  43.75,  47.5 ,  51.25,  55.  ,  58.75,  62.5 ,  66.25,\n",
              "        70.  ,  73.75,  77.5 ,  81.25,  85.  ,  88.75,  92.5 ,  96.25,\n",
              "       100.  ])"
            ]
          },
          "metadata": {},
          "execution_count": 57
        }
      ]
    },
    {
      "cell_type": "markdown",
      "source": [
        "QUE5:"
      ],
      "metadata": {
        "id": "3-yAOG2GjuqM"
      }
    },
    {
      "cell_type": "code",
      "source": [
        "ucs420_Nikita=np.array([[10,20,30,40],[50,60,70,80],[90,15,20,35]])\n",
        "print(ucs420_Nikita)\n",
        "mean=np.mean(ucs420_Nikita)\n",
        "print(f\"the mean is:{mean}\")\n",
        "median=np.median(ucs420_Nikita)\n",
        "print(f\"the median is:{median}\")\n",
        "min=np.min(ucs420_Nikita)\n",
        "print(f\"the minimum is:{min}\")\n",
        "unique=np.unique(ucs420_Nikita)\n",
        "print(f\"the unique values are:{unique}\")\n",
        "reshaped_ucs420_Nikita=ucs420_Nikita.reshape(4,3)\n",
        "print(f\"the reshaped array is:{reshaped_ucs420_Nikita}\")\n",
        "resized_ucs420_Nikita=np.resize(ucs420_Nikita,(2,3))\n",
        "print(f\"the resized array is:{resized_ucs420_Nikita}\")\n",
        "\n",
        "\n"
      ],
      "metadata": {
        "colab": {
          "base_uri": "https://localhost:8080/"
        },
        "id": "HnOWK3a0jyDq",
        "outputId": "115a0ff5-c7d7-4e3a-9003-ce057222cd9d"
      },
      "execution_count": 69,
      "outputs": [
        {
          "output_type": "stream",
          "name": "stdout",
          "text": [
            "[[10 20 30 40]\n",
            " [50 60 70 80]\n",
            " [90 15 20 35]]\n",
            "the mean is:43.333333333333336\n",
            "the median is:37.5\n",
            "the minimum is:10\n",
            "the unique values are:[10 15 20 30 35 40 50 60 70 80 90]\n",
            "the reshaped array is:[[10 20 30]\n",
            " [40 50 60]\n",
            " [70 80 90]\n",
            " [15 20 35]]\n",
            "the resized array is:[[10 20 30]\n",
            " [40 50 60]]\n"
          ]
        }
      ]
    }
  ]
}