{
  "nbformat": 4,
  "nbformat_minor": 0,
  "metadata": {
    "colab": {
      "provenance": [],
      "authorship_tag": "ABX9TyPKtsTN5zGDaSKnWzxgBKs9",
      "include_colab_link": true
    },
    "kernelspec": {
      "name": "python3",
      "display_name": "Python 3"
    },
    "language_info": {
      "name": "python"
    }
  },
  "cells": [
    {
      "cell_type": "markdown",
      "metadata": {
        "id": "view-in-github",
        "colab_type": "text"
      },
      "source": [
        "<a href=\"https://colab.research.google.com/github/codernikita/cognitive-computing/blob/main/cc_ass9.ipynb\" target=\"_parent\"><img src=\"https://colab.research.google.com/assets/colab-badge.svg\" alt=\"Open In Colab\"/></a>"
      ]
    },
    {
      "cell_type": "markdown",
      "source": [
        "ASSIGNMENT-9"
      ],
      "metadata": {
        "id": "WrOG8dc0JMIO"
      }
    },
    {
      "cell_type": "code",
      "execution_count": 55,
      "metadata": {
        "id": "Q0H1lgzpvgut"
      },
      "outputs": [],
      "source": [
        "text=\"\"\"The runners were running swiftly towards the finishing line, hoping to win the championship of 2023.\n",
        "Mr.Thomas's email, thomas_23@nlp-expert.org, was leaked accidentally on www.example-site.com.\n",
        "\"I’ve tried—really tried—to improve the model’s performance!\" he said.\n",
        "The model versions: v1.0, v1.1-beta, and v2-final were all evaluated.\n",
        "Call support at +44-7700-900321 or send feedback to dev-team@example.com.\"\"\""
      ]
    },
    {
      "cell_type": "code",
      "source": [
        "text_lower=text.lower()\n",
        "print(text_lower)"
      ],
      "metadata": {
        "colab": {
          "base_uri": "https://localhost:8080/"
        },
        "id": "X2RDMeWpEyrn",
        "outputId": "0c796847-c06f-4790-9b06-192b2258ada8"
      },
      "execution_count": 2,
      "outputs": [
        {
          "output_type": "stream",
          "name": "stdout",
          "text": [
            "the runners were running swiftly towards the finishing line, hoping to win the championship of 2023.\n",
            "mr.thomas's email, thomas_23@nlp-expert.org, was leaked accidentally on www.example-site.com.\n",
            "\"i’ve tried—really tried—to improve the model’s performance!\" he said.\n",
            "the model versions: v1.0, v1.1-beta, and v2-final were all evaluated.\n",
            "call support at +44-7700-900321 or send feedback to dev-team@example.com.\n"
          ]
        }
      ]
    },
    {
      "cell_type": "code",
      "source": [],
      "metadata": {
        "id": "RxqalHQcfb7b"
      },
      "execution_count": 2,
      "outputs": []
    },
    {
      "cell_type": "code",
      "source": [
        "import string\n",
        "translator=str.maketrans('','',string.punctuation)\n",
        "#str.maketrans(x,y,z) x is string to replace, y is with what to replace and z is what to delete.\n",
        "clean_text=text_lower.translate(translator)\n",
        "print(clean_text)"
      ],
      "metadata": {
        "colab": {
          "base_uri": "https://localhost:8080/"
        },
        "id": "WtAvQE-RE4MS",
        "outputId": "874a40f3-8925-4e1b-a224-430838951d81"
      },
      "execution_count": 3,
      "outputs": [
        {
          "output_type": "stream",
          "name": "stdout",
          "text": [
            "the runners were running swiftly towards the finishing line hoping to win the championship of 2023\n",
            "mrthomass email thomas23nlpexpertorg was leaked accidentally on wwwexamplesitecom\n",
            "i’ve tried—really tried—to improve the model’s performance he said\n",
            "the model versions v10 v11beta and v2final were all evaluated\n",
            "call support at 447700900321 or send feedback to devteamexamplecom\n"
          ]
        }
      ]
    },
    {
      "cell_type": "code",
      "source": [
        "import nltk\n",
        "from nltk.tokenize import sent_tokenize, word_tokenize\n",
        "nltk.download('punkt_tab')\n",
        "words_tokenise=word_tokenize(clean_text)\n",
        "sent_tokenise=sent_tokenize(text)\n",
        "print(\"tonkenised words are:\",words_tokenise)\n",
        "print(\"tokenised sentences are:\",sent_tokenise)"
      ],
      "metadata": {
        "colab": {
          "base_uri": "https://localhost:8080/"
        },
        "id": "7gfIYvVtG4hB",
        "outputId": "7c85a97e-6488-463b-b5a5-b1eaa6773635"
      },
      "execution_count": 4,
      "outputs": [
        {
          "output_type": "stream",
          "name": "stderr",
          "text": [
            "[nltk_data] Downloading package punkt_tab to /root/nltk_data...\n",
            "[nltk_data]   Unzipping tokenizers/punkt_tab.zip.\n"
          ]
        },
        {
          "output_type": "stream",
          "name": "stdout",
          "text": [
            "tonkenised words are: ['the', 'runners', 'were', 'running', 'swiftly', 'towards', 'the', 'finishing', 'line', 'hoping', 'to', 'win', 'the', 'championship', 'of', '2023', 'mrthomass', 'email', 'thomas23nlpexpertorg', 'was', 'leaked', 'accidentally', 'on', 'wwwexamplesitecom', 'i', '’', 've', 'tried—really', 'tried—to', 'improve', 'the', 'model', '’', 's', 'performance', 'he', 'said', 'the', 'model', 'versions', 'v10', 'v11beta', 'and', 'v2final', 'were', 'all', 'evaluated', 'call', 'support', 'at', '447700900321', 'or', 'send', 'feedback', 'to', 'devteamexamplecom']\n",
            "tokenised sentences are: ['The runners were running swiftly towards the finishing line, hoping to win the championship of 2023.', \"Mr.Thomas's email, thomas_23@nlp-expert.org, was leaked accidentally on www.example-site.com.\", '\"I’ve tried—really tried—to improve the model’s performance!\"', 'he said.', 'The model versions: v1.0, v1.1-beta, and v2-final were all evaluated.', 'Call support at +44-7700-900321 or send feedback to dev-team@example.com.']\n"
          ]
        }
      ]
    },
    {
      "cell_type": "code",
      "source": [
        "from nltk.corpus import stopwords\n",
        "nltk.download('stopwords')\n",
        "stop_words=set(stopwords.words('english'))\n",
        "list1=[]\n",
        "for word in words_tokenise:\n",
        "    if word not in stop_words:\n",
        "        list1.append(word)\n",
        "print(list1)"
      ],
      "metadata": {
        "colab": {
          "base_uri": "https://localhost:8080/"
        },
        "id": "9_wrnvNFI6wH",
        "outputId": "19ee5ab7-9c8e-4bf3-d1c7-ae8ca2b686b8"
      },
      "execution_count": 5,
      "outputs": [
        {
          "output_type": "stream",
          "name": "stderr",
          "text": [
            "[nltk_data] Downloading package stopwords to /root/nltk_data...\n",
            "[nltk_data]   Unzipping corpora/stopwords.zip.\n"
          ]
        },
        {
          "output_type": "stream",
          "name": "stdout",
          "text": [
            "['runners', 'running', 'swiftly', 'towards', 'finishing', 'line', 'hoping', 'win', 'championship', '2023', 'mrthomass', 'email', 'thomas23nlpexpertorg', 'leaked', 'accidentally', 'wwwexamplesitecom', '’', 'tried—really', 'tried—to', 'improve', 'model', '’', 'performance', 'said', 'model', 'versions', 'v10', 'v11beta', 'v2final', 'evaluated', 'call', 'support', '447700900321', 'send', 'feedback', 'devteamexamplecom']\n"
          ]
        }
      ]
    },
    {
      "cell_type": "code",
      "source": [
        "from nltk import FreqDist\n",
        "fdist=FreqDist(list1)\n",
        "print(fdist.items())"
      ],
      "metadata": {
        "colab": {
          "base_uri": "https://localhost:8080/"
        },
        "id": "Cr46Co-ePDaC",
        "outputId": "43206719-6a8a-40d8-acbc-82fc1a695316"
      },
      "execution_count": 6,
      "outputs": [
        {
          "output_type": "stream",
          "name": "stdout",
          "text": [
            "dict_items([('runners', 1), ('running', 1), ('swiftly', 1), ('towards', 1), ('finishing', 1), ('line', 1), ('hoping', 1), ('win', 1), ('championship', 1), ('2023', 1), ('mrthomass', 1), ('email', 1), ('thomas23nlpexpertorg', 1), ('leaked', 1), ('accidentally', 1), ('wwwexamplesitecom', 1), ('’', 2), ('tried—really', 1), ('tried—to', 1), ('improve', 1), ('model', 2), ('performance', 1), ('said', 1), ('versions', 1), ('v10', 1), ('v11beta', 1), ('v2final', 1), ('evaluated', 1), ('call', 1), ('support', 1), ('447700900321', 1), ('send', 1), ('feedback', 1), ('devteamexamplecom', 1)])\n"
          ]
        }
      ]
    },
    {
      "cell_type": "code",
      "source": [
        "from nltk.stem import PorterStemmer,LancasterStemmer\n",
        "ps=PorterStemmer()\n",
        "ls=LancasterStemmer()\n",
        "\n",
        "for word in list1:\n",
        "  print(f\"{word}->{ps.stem(word)}, {ls.stem(word)}\")"
      ],
      "metadata": {
        "colab": {
          "base_uri": "https://localhost:8080/"
        },
        "id": "FjudWUIyHqJo",
        "outputId": "3c67e552-dd39-4099-e0f1-ed19e716ba07"
      },
      "execution_count": 7,
      "outputs": [
        {
          "output_type": "stream",
          "name": "stdout",
          "text": [
            "runners->runner, run\n",
            "running->run, run\n",
            "swiftly->swiftli, swift\n",
            "towards->toward, toward\n",
            "finishing->finish, fin\n",
            "line->line, lin\n",
            "hoping->hope, hop\n",
            "win->win, win\n",
            "championship->championship, champ\n",
            "2023->2023, 2023\n",
            "mrthomass->mrthomass, mrthomass\n",
            "email->email, email\n",
            "thomas23nlpexpertorg->thomas23nlpexpertorg, thomas23nlpexpertorg\n",
            "leaked->leak, leak\n",
            "accidentally->accident, accid\n",
            "wwwexamplesitecom->wwwexamplesitecom, wwwexamplesitecom\n",
            "’->’, ’\n",
            "tried—really->tried—real, tried—really\n",
            "tried—to->tried—to, tried—to\n",
            "improve->improv, improv\n",
            "model->model, model\n",
            "’->’, ’\n",
            "performance->perform, perform\n",
            "said->said, said\n",
            "model->model, model\n",
            "versions->version, vert\n",
            "v10->v10, v10\n",
            "v11beta->v11beta, v11beta\n",
            "v2final->v2final, v2final\n",
            "evaluated->evalu, evalu\n",
            "call->call, cal\n",
            "support->support, support\n",
            "447700900321->447700900321, 447700900321\n",
            "send->send, send\n",
            "feedback->feedback, feedback\n",
            "devteamexamplecom->devteamexamplecom, devteamexamplecom\n"
          ]
        }
      ]
    },
    {
      "cell_type": "code",
      "source": [
        "from nltk.stem import WordNetLemmatizer\n",
        "nltk.download('wordnet')\n",
        "lm=WordNetLemmatizer()\n",
        "\n",
        "for word in list1:\n",
        "  print(f\"{word}->{lm.lemmatize(word)}\")"
      ],
      "metadata": {
        "colab": {
          "base_uri": "https://localhost:8080/"
        },
        "id": "nK5a9Mg5nRND",
        "outputId": "a59eb85c-d49b-43c6-cf0b-788e027ca175"
      },
      "execution_count": 8,
      "outputs": [
        {
          "output_type": "stream",
          "name": "stderr",
          "text": [
            "[nltk_data] Downloading package wordnet to /root/nltk_data...\n"
          ]
        },
        {
          "output_type": "stream",
          "name": "stdout",
          "text": [
            "runners->runner\n",
            "running->running\n",
            "swiftly->swiftly\n",
            "towards->towards\n",
            "finishing->finishing\n",
            "line->line\n",
            "hoping->hoping\n",
            "win->win\n",
            "championship->championship\n",
            "2023->2023\n",
            "mrthomass->mrthomass\n",
            "email->email\n",
            "thomas23nlpexpertorg->thomas23nlpexpertorg\n",
            "leaked->leaked\n",
            "accidentally->accidentally\n",
            "wwwexamplesitecom->wwwexamplesitecom\n",
            "’->’\n",
            "tried—really->tried—really\n",
            "tried—to->tried—to\n",
            "improve->improve\n",
            "model->model\n",
            "’->’\n",
            "performance->performance\n",
            "said->said\n",
            "model->model\n",
            "versions->version\n",
            "v10->v10\n",
            "v11beta->v11beta\n",
            "v2final->v2final\n",
            "evaluated->evaluated\n",
            "call->call\n",
            "support->support\n",
            "447700900321->447700900321\n",
            "send->send\n",
            "feedback->feedback\n",
            "devteamexamplecom->devteamexamplecom\n"
          ]
        }
      ]
    },
    {
      "cell_type": "code",
      "source": [
        "import re\n",
        "more_than5=re.findall(r'\\b[a-zA-Z]{6,}\\b',text)\n",
        "print(more_than5)"
      ],
      "metadata": {
        "colab": {
          "base_uri": "https://localhost:8080/"
        },
        "id": "ru_m-EV3fiHg",
        "outputId": "7edfaf72-394b-4651-e431-473ccaa34d48"
      },
      "execution_count": 11,
      "outputs": [
        {
          "output_type": "stream",
          "name": "stdout",
          "text": [
            "['runners', 'running', 'swiftly', 'towards', 'finishing', 'hoping', 'championship', 'Thomas', 'expert', 'leaked', 'accidentally', 'example', 'really', 'improve', 'performance', 'versions', 'evaluated', 'support', 'feedback', 'example']\n"
          ]
        }
      ]
    },
    {
      "cell_type": "code",
      "source": [
        "numbers=re.findall(r'\\b\\d+\\b',text)\n",
        "number=re.findall(r'\\B\\d+\\B',text)\n",
        "number3=re.findall(r'\\d+',text)\n",
        "print(numbers)\n",
        "print(number)\n",
        "print(number3)"
      ],
      "metadata": {
        "id": "aSg8HdSwopMq",
        "colab": {
          "base_uri": "https://localhost:8080/"
        },
        "outputId": "466e24dc-0bde-4b6a-c125-b6aab8988503"
      },
      "execution_count": 22,
      "outputs": [
        {
          "output_type": "stream",
          "name": "stdout",
          "text": [
            "['2023', '0', '1', '44', '7700', '900321']\n",
            "['02', '2', '70', '0032']\n",
            "['2023', '23', '1', '0', '1', '1', '2', '44', '7700', '900321']\n"
          ]
        }
      ]
    },
    {
      "cell_type": "code",
      "source": [
        "capitalize_word=re.findall(r'\\b[A-Z][a-zA-Z]*\\b',text)\n",
        "print(capitalize_word)"
      ],
      "metadata": {
        "colab": {
          "base_uri": "https://localhost:8080/"
        },
        "id": "E5CBx4eQsR5s",
        "outputId": "2a8ce726-6b17-4643-eb88-ef4c87a23340"
      },
      "execution_count": 31,
      "outputs": [
        {
          "output_type": "stream",
          "name": "stdout",
          "text": [
            "['The', 'Mr', 'Thomas', 'I', 'The', 'Call']\n"
          ]
        }
      ]
    },
    {
      "cell_type": "code",
      "source": [
        "words_only = re.findall(r'\\b[a-zA-Z]+\\b', text)\n",
        "vowel_words = [word for word in words_only if re.match(r'^[aeiouAEIOU]', word)]\n",
        "print(words_only)\n",
        "print(vowel_words)"
      ],
      "metadata": {
        "colab": {
          "base_uri": "https://localhost:8080/"
        },
        "id": "4rsshmSXvDfS",
        "outputId": "d151ea75-ea53-4824-8c56-95a57431ea54"
      },
      "execution_count": 32,
      "outputs": [
        {
          "output_type": "stream",
          "name": "stdout",
          "text": [
            "['The', 'runners', 'were', 'running', 'swiftly', 'towards', 'the', 'finishing', 'line', 'hoping', 'to', 'win', 'the', 'championship', 'of', 'Mr', 'Thomas', 's', 'email', 'nlp', 'expert', 'org', 'was', 'leaked', 'accidentally', 'on', 'www', 'example', 'site', 'com', 'I', 've', 'tried', 'really', 'tried', 'to', 'improve', 'the', 'model', 's', 'performance', 'he', 'said', 'The', 'model', 'versions', 'beta', 'and', 'final', 'were', 'all', 'evaluated', 'Call', 'support', 'at', 'or', 'send', 'feedback', 'to', 'dev', 'team', 'example', 'com']\n",
            "['of', 'email', 'expert', 'org', 'accidentally', 'on', 'example', 'I', 'improve', 'and', 'all', 'evaluated', 'at', 'or', 'example']\n"
          ]
        }
      ]
    },
    {
      "cell_type": "code",
      "source": [
        "contracted=re.findall(r'\\b\\w*[\\'\\’]\\w*\\b',text)\n",
        "print(contracted)"
      ],
      "metadata": {
        "colab": {
          "base_uri": "https://localhost:8080/"
        },
        "id": "WkcGSM7VvgPh",
        "outputId": "218b5e79-d160-4e18-c7df-4ab90a0b07e1"
      },
      "execution_count": 45,
      "outputs": [
        {
          "output_type": "stream",
          "name": "stdout",
          "text": [
            "[\"Thomas's\", 'I’ve', 'model’s']\n"
          ]
        }
      ]
    },
    {
      "cell_type": "code",
      "source": [
        "hyphenated=re.findall(r'\\b\\w+(?:-\\w+)+\\b',text)\n",
        "print(hyphenated)"
      ],
      "metadata": {
        "colab": {
          "base_uri": "https://localhost:8080/"
        },
        "id": "ZkQK1xyczM1S",
        "outputId": "99a31833-f1bf-4c8f-981c-0ec26845fdd1"
      },
      "execution_count": 56,
      "outputs": [
        {
          "output_type": "stream",
          "name": "stdout",
          "text": [
            "['nlp-expert', 'example-site', '1-beta', 'v2-final', '44-7700-900321', 'dev-team']\n"
          ]
        }
      ]
    },
    {
      "cell_type": "code",
      "source": [
        "numbers=re.findall(r'\\d+|\\d+\\.\\d+',text)\n",
        "print(numbers)"
      ],
      "metadata": {
        "colab": {
          "base_uri": "https://localhost:8080/"
        },
        "id": "5el6rufo1Bfk",
        "outputId": "1e2253b5-e5c9-412b-965a-8e79f8df7baa"
      },
      "execution_count": 60,
      "outputs": [
        {
          "output_type": "stream",
          "name": "stdout",
          "text": [
            "['2023', '23', '1', '0', '1', '1', '2', '44', '7700', '900321']\n"
          ]
        }
      ]
    },
    {
      "cell_type": "code",
      "source": [
        "replace=re.sub(r'[\\w\\.-]+@[\\w\\.-]+\\.[a-zA-Z]{2,}','<EMAIL>',text)\n",
        "print(replace)"
      ],
      "metadata": {
        "colab": {
          "base_uri": "https://localhost:8080/"
        },
        "id": "_TVB9PC96Ygj",
        "outputId": "6d006122-c37f-4000-cd06-1607042ef4be"
      },
      "execution_count": 74,
      "outputs": [
        {
          "output_type": "stream",
          "name": "stdout",
          "text": [
            "The runners were running swiftly towards the finishing line, hoping to win the championship of 2023.\n",
            "Mr.Thomas's email, <EMAIL>, was leaked accidentally on www.example-site.com.\n",
            "\"I’ve tried—really tried—to improve the model’s performance!\" he said.\n",
            "The model versions: v1.0, v1.1-beta, and v2-final were all evaluated.\n",
            "Call support at +44-7700-900321 or send feedback to <EMAIL>.\n"
          ]
        }
      ]
    },
    {
      "cell_type": "code",
      "source": [
        "replace2=re.sub(r'www\\.\\S+','<URL>',replace)\n",
        "print(replace2)"
      ],
      "metadata": {
        "colab": {
          "base_uri": "https://localhost:8080/"
        },
        "id": "zDHrktPkISV_",
        "outputId": "9df8e078-5c12-46f2-dfd6-e74f7663f069"
      },
      "execution_count": 75,
      "outputs": [
        {
          "output_type": "stream",
          "name": "stdout",
          "text": [
            "The runners were running swiftly towards the finishing line, hoping to win the championship of 2023.\n",
            "Mr.Thomas's email, <EMAIL>, was leaked accidentally on <URL>\n",
            "\"I’ve tried—really tried—to improve the model’s performance!\" he said.\n",
            "The model versions: v1.0, v1.1-beta, and v2-final were all evaluated.\n",
            "Call support at +44-7700-900321 or send feedback to <EMAIL>.\n"
          ]
        }
      ]
    },
    {
      "cell_type": "code",
      "source": [
        "replace3=re.sub(r'[0-9]{3}[-][0-9]{3}[-][0-9]{4}|[+][91 ][0-9]{10}','<PHONE>',replace2)\n",
        "print(replace3)"
      ],
      "metadata": {
        "colab": {
          "base_uri": "https://localhost:8080/"
        },
        "id": "TQ4gBqroJJYl",
        "outputId": "5982842e-d724-492d-80ae-a275669e0528"
      },
      "execution_count": 77,
      "outputs": [
        {
          "output_type": "stream",
          "name": "stdout",
          "text": [
            "The runners were running swiftly towards the finishing line, hoping to win the championship of 2023.\n",
            "Mr.Thomas's email, <EMAIL>, was leaked accidentally on <URL>\n",
            "\"I’ve tried—really tried—to improve the model’s performance!\" he said.\n",
            "The model versions: v1.0, v1.1-beta, and v2-final were all evaluated.\n",
            "Call support at +44-7700-900321 or send feedback to <EMAIL>.\n"
          ]
        }
      ]
    },
    {
      "cell_type": "code",
      "source": [],
      "metadata": {
        "id": "2ug92pakJoi9"
      },
      "execution_count": null,
      "outputs": []
    }
  ]
}