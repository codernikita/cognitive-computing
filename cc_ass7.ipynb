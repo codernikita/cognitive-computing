{
  "nbformat": 4,
  "nbformat_minor": 0,
  "metadata": {
    "colab": {
      "provenance": [],
      "authorship_tag": "ABX9TyOkwK952LhaSMeN71BFbQeI",
      "include_colab_link": true
    },
    "kernelspec": {
      "name": "python3",
      "display_name": "Python 3"
    },
    "language_info": {
      "name": "python"
    }
  },
  "cells": [
    {
      "cell_type": "markdown",
      "metadata": {
        "id": "view-in-github",
        "colab_type": "text"
      },
      "source": [
        "<a href=\"https://colab.research.google.com/github/codernikita/cognitive-computing/blob/main/cc_ass7.ipynb\" target=\"_parent\"><img src=\"https://colab.research.google.com/assets/colab-badge.svg\" alt=\"Open In Colab\"/></a>"
      ]
    },
    {
      "cell_type": "markdown",
      "source": [
        "QUE 1: Part-I"
      ],
      "metadata": {
        "id": "pzVKfASPn6Gp"
      }
    },
    {
      "cell_type": "code",
      "execution_count": 1,
      "metadata": {
        "id": "jhr6wiVGa24R"
      },
      "outputs": [],
      "source": [
        "import numpy as np\n",
        "import pandas as pd\n",
        "import matplotlib.pyplot as plt\n",
        "import seaborn as sns"
      ]
    },
    {
      "cell_type": "code",
      "source": [
        "np.random.seed(102317245)"
      ],
      "metadata": {
        "id": "yPH47pnYbHOg"
      },
      "execution_count": 2,
      "outputs": []
    },
    {
      "cell_type": "code",
      "source": [
        "arr1=np.random.randint(1001,5000,size=(12,4))\n",
        "print(arr1)"
      ],
      "metadata": {
        "colab": {
          "base_uri": "https://localhost:8080/"
        },
        "id": "wlcT5S4nbLQ6",
        "outputId": "fdf7e81f-f3e7-4aaa-ea0c-a60c2a26fefa"
      },
      "execution_count": 11,
      "outputs": [
        {
          "output_type": "stream",
          "name": "stdout",
          "text": [
            "[[4336 3381 2716 1842]\n",
            " [4513 2237 4795 3755]\n",
            " [1649 1931 1625 4240]\n",
            " [4692 1872 3603 2860]\n",
            " [2035 4541 1155 4311]\n",
            " [1895 3023 1964 1473]\n",
            " [1691 4139 3441 1101]\n",
            " [3304 3149 2690 1113]\n",
            " [1626 2959 3964 4777]\n",
            " [1579 1970 3669 2057]\n",
            " [2278 1307 1799 1774]\n",
            " [4817 2711 1623 2348]]\n"
          ]
        }
      ]
    },
    {
      "cell_type": "code",
      "source": [
        "df=pd.DataFrame(arr1,columns=[\"Electronics\",\"Clothing\",\"Home and kitchen\",\"Sports\"],index=[\"Jan\",\"Feb\",\"Mar\",\"Apr\",\"May\",\"Jun\",\"Jul\",\n",
        "                                                                                             \"Aug\",\"Sep\",\"Oct\",\"Nov\",\"Dec\"])\n",
        "print(df)"
      ],
      "metadata": {
        "colab": {
          "base_uri": "https://localhost:8080/"
        },
        "id": "3IrBwDb2dGO1",
        "outputId": "e15549d8-3d9a-42ac-a5aa-cab8fe26d685"
      },
      "execution_count": 16,
      "outputs": [
        {
          "output_type": "stream",
          "name": "stdout",
          "text": [
            "     Electronics  Clothing  Home and kitchen  Sports\n",
            "Jan         4336      3381              2716    1842\n",
            "Feb         4513      2237              4795    3755\n",
            "Mar         1649      1931              1625    4240\n",
            "Apr         4692      1872              3603    2860\n",
            "May         2035      4541              1155    4311\n",
            "Jun         1895      3023              1964    1473\n",
            "Jul         1691      4139              3441    1101\n",
            "Aug         3304      3149              2690    1113\n",
            "Sep         1626      2959              3964    4777\n",
            "Oct         1579      1970              3669    2057\n",
            "Nov         2278      1307              1799    1774\n",
            "Dec         4817      2711              1623    2348\n"
          ]
        }
      ]
    },
    {
      "cell_type": "markdown",
      "source": [
        "Part-II"
      ],
      "metadata": {
        "id": "NFnbmlZ7oA9g"
      }
    },
    {
      "cell_type": "code",
      "source": [
        "print(\"the first 5 rows are :\")\n",
        "print(df.head())\n",
        "print(\"the summary of the data is:\")\n",
        "df.describe()"
      ],
      "metadata": {
        "colab": {
          "base_uri": "https://localhost:8080/",
          "height": 439
        },
        "id": "FrGB-OUbekED",
        "outputId": "f4d5b360-33db-498f-b33d-f8e773c9ac02"
      },
      "execution_count": 19,
      "outputs": [
        {
          "output_type": "stream",
          "name": "stdout",
          "text": [
            "the first 5 rows are :\n",
            "     Electronics  Clothing  Home and kitchen  Sports\n",
            "Jan         4336      3381              2716    1842\n",
            "Feb         4513      2237              4795    3755\n",
            "Mar         1649      1931              1625    4240\n",
            "Apr         4692      1872              3603    2860\n",
            "May         2035      4541              1155    4311\n",
            "the summary of the data is:\n"
          ]
        },
        {
          "output_type": "execute_result",
          "data": {
            "text/plain": [
              "       Electronics     Clothing  Home and kitchen       Sports\n",
              "count    12.000000    12.000000         12.000000    12.000000\n",
              "mean   2867.916667  2768.333333       2753.666667  2637.583333\n",
              "std    1356.493304   963.210761       1140.655420  1317.180767\n",
              "min    1579.000000  1307.000000       1155.000000  1101.000000\n",
              "25%    1680.500000  1960.250000       1755.500000  1698.750000\n",
              "50%    2156.500000  2835.000000       2703.000000  2202.500000\n",
              "75%    4380.250000  3207.000000       3619.500000  3876.250000\n",
              "max    4817.000000  4541.000000       4795.000000  4777.000000"
            ],
            "text/html": [
              "\n",
              "  <div id=\"df-4c49dd65-62aa-4daa-9f9d-6ecd3d7a9fc4\" class=\"colab-df-container\">\n",
              "    <div>\n",
              "<style scoped>\n",
              "    .dataframe tbody tr th:only-of-type {\n",
              "        vertical-align: middle;\n",
              "    }\n",
              "\n",
              "    .dataframe tbody tr th {\n",
              "        vertical-align: top;\n",
              "    }\n",
              "\n",
              "    .dataframe thead th {\n",
              "        text-align: right;\n",
              "    }\n",
              "</style>\n",
              "<table border=\"1\" class=\"dataframe\">\n",
              "  <thead>\n",
              "    <tr style=\"text-align: right;\">\n",
              "      <th></th>\n",
              "      <th>Electronics</th>\n",
              "      <th>Clothing</th>\n",
              "      <th>Home and kitchen</th>\n",
              "      <th>Sports</th>\n",
              "    </tr>\n",
              "  </thead>\n",
              "  <tbody>\n",
              "    <tr>\n",
              "      <th>count</th>\n",
              "      <td>12.000000</td>\n",
              "      <td>12.000000</td>\n",
              "      <td>12.000000</td>\n",
              "      <td>12.000000</td>\n",
              "    </tr>\n",
              "    <tr>\n",
              "      <th>mean</th>\n",
              "      <td>2867.916667</td>\n",
              "      <td>2768.333333</td>\n",
              "      <td>2753.666667</td>\n",
              "      <td>2637.583333</td>\n",
              "    </tr>\n",
              "    <tr>\n",
              "      <th>std</th>\n",
              "      <td>1356.493304</td>\n",
              "      <td>963.210761</td>\n",
              "      <td>1140.655420</td>\n",
              "      <td>1317.180767</td>\n",
              "    </tr>\n",
              "    <tr>\n",
              "      <th>min</th>\n",
              "      <td>1579.000000</td>\n",
              "      <td>1307.000000</td>\n",
              "      <td>1155.000000</td>\n",
              "      <td>1101.000000</td>\n",
              "    </tr>\n",
              "    <tr>\n",
              "      <th>25%</th>\n",
              "      <td>1680.500000</td>\n",
              "      <td>1960.250000</td>\n",
              "      <td>1755.500000</td>\n",
              "      <td>1698.750000</td>\n",
              "    </tr>\n",
              "    <tr>\n",
              "      <th>50%</th>\n",
              "      <td>2156.500000</td>\n",
              "      <td>2835.000000</td>\n",
              "      <td>2703.000000</td>\n",
              "      <td>2202.500000</td>\n",
              "    </tr>\n",
              "    <tr>\n",
              "      <th>75%</th>\n",
              "      <td>4380.250000</td>\n",
              "      <td>3207.000000</td>\n",
              "      <td>3619.500000</td>\n",
              "      <td>3876.250000</td>\n",
              "    </tr>\n",
              "    <tr>\n",
              "      <th>max</th>\n",
              "      <td>4817.000000</td>\n",
              "      <td>4541.000000</td>\n",
              "      <td>4795.000000</td>\n",
              "      <td>4777.000000</td>\n",
              "    </tr>\n",
              "  </tbody>\n",
              "</table>\n",
              "</div>\n",
              "    <div class=\"colab-df-buttons\">\n",
              "\n",
              "  <div class=\"colab-df-container\">\n",
              "    <button class=\"colab-df-convert\" onclick=\"convertToInteractive('df-4c49dd65-62aa-4daa-9f9d-6ecd3d7a9fc4')\"\n",
              "            title=\"Convert this dataframe to an interactive table.\"\n",
              "            style=\"display:none;\">\n",
              "\n",
              "  <svg xmlns=\"http://www.w3.org/2000/svg\" height=\"24px\" viewBox=\"0 -960 960 960\">\n",
              "    <path d=\"M120-120v-720h720v720H120Zm60-500h600v-160H180v160Zm220 220h160v-160H400v160Zm0 220h160v-160H400v160ZM180-400h160v-160H180v160Zm440 0h160v-160H620v160ZM180-180h160v-160H180v160Zm440 0h160v-160H620v160Z\"/>\n",
              "  </svg>\n",
              "    </button>\n",
              "\n",
              "  <style>\n",
              "    .colab-df-container {\n",
              "      display:flex;\n",
              "      gap: 12px;\n",
              "    }\n",
              "\n",
              "    .colab-df-convert {\n",
              "      background-color: #E8F0FE;\n",
              "      border: none;\n",
              "      border-radius: 50%;\n",
              "      cursor: pointer;\n",
              "      display: none;\n",
              "      fill: #1967D2;\n",
              "      height: 32px;\n",
              "      padding: 0 0 0 0;\n",
              "      width: 32px;\n",
              "    }\n",
              "\n",
              "    .colab-df-convert:hover {\n",
              "      background-color: #E2EBFA;\n",
              "      box-shadow: 0px 1px 2px rgba(60, 64, 67, 0.3), 0px 1px 3px 1px rgba(60, 64, 67, 0.15);\n",
              "      fill: #174EA6;\n",
              "    }\n",
              "\n",
              "    .colab-df-buttons div {\n",
              "      margin-bottom: 4px;\n",
              "    }\n",
              "\n",
              "    [theme=dark] .colab-df-convert {\n",
              "      background-color: #3B4455;\n",
              "      fill: #D2E3FC;\n",
              "    }\n",
              "\n",
              "    [theme=dark] .colab-df-convert:hover {\n",
              "      background-color: #434B5C;\n",
              "      box-shadow: 0px 1px 3px 1px rgba(0, 0, 0, 0.15);\n",
              "      filter: drop-shadow(0px 1px 2px rgba(0, 0, 0, 0.3));\n",
              "      fill: #FFFFFF;\n",
              "    }\n",
              "  </style>\n",
              "\n",
              "    <script>\n",
              "      const buttonEl =\n",
              "        document.querySelector('#df-4c49dd65-62aa-4daa-9f9d-6ecd3d7a9fc4 button.colab-df-convert');\n",
              "      buttonEl.style.display =\n",
              "        google.colab.kernel.accessAllowed ? 'block' : 'none';\n",
              "\n",
              "      async function convertToInteractive(key) {\n",
              "        const element = document.querySelector('#df-4c49dd65-62aa-4daa-9f9d-6ecd3d7a9fc4');\n",
              "        const dataTable =\n",
              "          await google.colab.kernel.invokeFunction('convertToInteractive',\n",
              "                                                    [key], {});\n",
              "        if (!dataTable) return;\n",
              "\n",
              "        const docLinkHtml = 'Like what you see? Visit the ' +\n",
              "          '<a target=\"_blank\" href=https://colab.research.google.com/notebooks/data_table.ipynb>data table notebook</a>'\n",
              "          + ' to learn more about interactive tables.';\n",
              "        element.innerHTML = '';\n",
              "        dataTable['output_type'] = 'display_data';\n",
              "        await google.colab.output.renderOutput(dataTable, element);\n",
              "        const docLink = document.createElement('div');\n",
              "        docLink.innerHTML = docLinkHtml;\n",
              "        element.appendChild(docLink);\n",
              "      }\n",
              "    </script>\n",
              "  </div>\n",
              "\n",
              "\n",
              "<div id=\"df-2460be77-83de-4a44-8535-57e6c5b8d4ef\">\n",
              "  <button class=\"colab-df-quickchart\" onclick=\"quickchart('df-2460be77-83de-4a44-8535-57e6c5b8d4ef')\"\n",
              "            title=\"Suggest charts\"\n",
              "            style=\"display:none;\">\n",
              "\n",
              "<svg xmlns=\"http://www.w3.org/2000/svg\" height=\"24px\"viewBox=\"0 0 24 24\"\n",
              "     width=\"24px\">\n",
              "    <g>\n",
              "        <path d=\"M19 3H5c-1.1 0-2 .9-2 2v14c0 1.1.9 2 2 2h14c1.1 0 2-.9 2-2V5c0-1.1-.9-2-2-2zM9 17H7v-7h2v7zm4 0h-2V7h2v10zm4 0h-2v-4h2v4z\"/>\n",
              "    </g>\n",
              "</svg>\n",
              "  </button>\n",
              "\n",
              "<style>\n",
              "  .colab-df-quickchart {\n",
              "      --bg-color: #E8F0FE;\n",
              "      --fill-color: #1967D2;\n",
              "      --hover-bg-color: #E2EBFA;\n",
              "      --hover-fill-color: #174EA6;\n",
              "      --disabled-fill-color: #AAA;\n",
              "      --disabled-bg-color: #DDD;\n",
              "  }\n",
              "\n",
              "  [theme=dark] .colab-df-quickchart {\n",
              "      --bg-color: #3B4455;\n",
              "      --fill-color: #D2E3FC;\n",
              "      --hover-bg-color: #434B5C;\n",
              "      --hover-fill-color: #FFFFFF;\n",
              "      --disabled-bg-color: #3B4455;\n",
              "      --disabled-fill-color: #666;\n",
              "  }\n",
              "\n",
              "  .colab-df-quickchart {\n",
              "    background-color: var(--bg-color);\n",
              "    border: none;\n",
              "    border-radius: 50%;\n",
              "    cursor: pointer;\n",
              "    display: none;\n",
              "    fill: var(--fill-color);\n",
              "    height: 32px;\n",
              "    padding: 0;\n",
              "    width: 32px;\n",
              "  }\n",
              "\n",
              "  .colab-df-quickchart:hover {\n",
              "    background-color: var(--hover-bg-color);\n",
              "    box-shadow: 0 1px 2px rgba(60, 64, 67, 0.3), 0 1px 3px 1px rgba(60, 64, 67, 0.15);\n",
              "    fill: var(--button-hover-fill-color);\n",
              "  }\n",
              "\n",
              "  .colab-df-quickchart-complete:disabled,\n",
              "  .colab-df-quickchart-complete:disabled:hover {\n",
              "    background-color: var(--disabled-bg-color);\n",
              "    fill: var(--disabled-fill-color);\n",
              "    box-shadow: none;\n",
              "  }\n",
              "\n",
              "  .colab-df-spinner {\n",
              "    border: 2px solid var(--fill-color);\n",
              "    border-color: transparent;\n",
              "    border-bottom-color: var(--fill-color);\n",
              "    animation:\n",
              "      spin 1s steps(1) infinite;\n",
              "  }\n",
              "\n",
              "  @keyframes spin {\n",
              "    0% {\n",
              "      border-color: transparent;\n",
              "      border-bottom-color: var(--fill-color);\n",
              "      border-left-color: var(--fill-color);\n",
              "    }\n",
              "    20% {\n",
              "      border-color: transparent;\n",
              "      border-left-color: var(--fill-color);\n",
              "      border-top-color: var(--fill-color);\n",
              "    }\n",
              "    30% {\n",
              "      border-color: transparent;\n",
              "      border-left-color: var(--fill-color);\n",
              "      border-top-color: var(--fill-color);\n",
              "      border-right-color: var(--fill-color);\n",
              "    }\n",
              "    40% {\n",
              "      border-color: transparent;\n",
              "      border-right-color: var(--fill-color);\n",
              "      border-top-color: var(--fill-color);\n",
              "    }\n",
              "    60% {\n",
              "      border-color: transparent;\n",
              "      border-right-color: var(--fill-color);\n",
              "    }\n",
              "    80% {\n",
              "      border-color: transparent;\n",
              "      border-right-color: var(--fill-color);\n",
              "      border-bottom-color: var(--fill-color);\n",
              "    }\n",
              "    90% {\n",
              "      border-color: transparent;\n",
              "      border-bottom-color: var(--fill-color);\n",
              "    }\n",
              "  }\n",
              "</style>\n",
              "\n",
              "  <script>\n",
              "    async function quickchart(key) {\n",
              "      const quickchartButtonEl =\n",
              "        document.querySelector('#' + key + ' button');\n",
              "      quickchartButtonEl.disabled = true;  // To prevent multiple clicks.\n",
              "      quickchartButtonEl.classList.add('colab-df-spinner');\n",
              "      try {\n",
              "        const charts = await google.colab.kernel.invokeFunction(\n",
              "            'suggestCharts', [key], {});\n",
              "      } catch (error) {\n",
              "        console.error('Error during call to suggestCharts:', error);\n",
              "      }\n",
              "      quickchartButtonEl.classList.remove('colab-df-spinner');\n",
              "      quickchartButtonEl.classList.add('colab-df-quickchart-complete');\n",
              "    }\n",
              "    (() => {\n",
              "      let quickchartButtonEl =\n",
              "        document.querySelector('#df-2460be77-83de-4a44-8535-57e6c5b8d4ef button');\n",
              "      quickchartButtonEl.style.display =\n",
              "        google.colab.kernel.accessAllowed ? 'block' : 'none';\n",
              "    })();\n",
              "  </script>\n",
              "</div>\n",
              "\n",
              "    </div>\n",
              "  </div>\n"
            ],
            "application/vnd.google.colaboratory.intrinsic+json": {
              "type": "dataframe",
              "summary": "{\n  \"name\": \"df\",\n  \"rows\": 8,\n  \"fields\": [\n    {\n      \"column\": \"Electronics\",\n      \"properties\": {\n        \"dtype\": \"number\",\n        \"std\": 1603.9837248623776,\n        \"min\": 12.0,\n        \"max\": 4817.0,\n        \"num_unique_values\": 8,\n        \"samples\": [\n          2867.9166666666665,\n          2156.5,\n          12.0\n        ],\n        \"semantic_type\": \"\",\n        \"description\": \"\"\n      }\n    },\n    {\n      \"column\": \"Clothing\",\n      \"properties\": {\n        \"dtype\": \"number\",\n        \"std\": 1433.8994609281845,\n        \"min\": 12.0,\n        \"max\": 4541.0,\n        \"num_unique_values\": 8,\n        \"samples\": [\n          2768.3333333333335,\n          2835.0,\n          12.0\n        ],\n        \"semantic_type\": \"\",\n        \"description\": \"\"\n      }\n    },\n    {\n      \"column\": \"Home and kitchen\",\n      \"properties\": {\n        \"dtype\": \"number\",\n        \"std\": 1535.0081344163234,\n        \"min\": 12.0,\n        \"max\": 4795.0,\n        \"num_unique_values\": 8,\n        \"samples\": [\n          2753.6666666666665,\n          2703.0,\n          12.0\n        ],\n        \"semantic_type\": \"\",\n        \"description\": \"\"\n      }\n    },\n    {\n      \"column\": \"Sports\",\n      \"properties\": {\n        \"dtype\": \"number\",\n        \"std\": 1543.0921130097179,\n        \"min\": 12.0,\n        \"max\": 4777.0,\n        \"num_unique_values\": 8,\n        \"samples\": [\n          2637.5833333333335,\n          2202.5,\n          12.0\n        ],\n        \"semantic_type\": \"\",\n        \"description\": \"\"\n      }\n    }\n  ]\n}"
            }
          },
          "metadata": {},
          "execution_count": 19
        }
      ]
    },
    {
      "cell_type": "code",
      "source": [
        "list1=[]\n",
        "list5=[]\n",
        "for i in df.columns:\n",
        "  print(\"The total of {i} is {s}\".format(i=i,s=sum(df[i])))\n",
        "  list5.append(sum(df[i]))\n",
        "for i in df.index:\n",
        "  print(\"The total of {i} is {s}\".format(i=i,s=sum(df.loc[i])))\n",
        "  list1.append(sum(df.loc[i]))"
      ],
      "metadata": {
        "colab": {
          "base_uri": "https://localhost:8080/"
        },
        "id": "90MCq48ifA6h",
        "outputId": "eec12858-5466-462f-e9e7-18de8b243d61"
      },
      "execution_count": 65,
      "outputs": [
        {
          "output_type": "stream",
          "name": "stdout",
          "text": [
            "The total of Electronics is 34415\n",
            "The total of Clothing is 33220\n",
            "The total of Home and kitchen is 33044\n",
            "The total of Sports is 31651\n",
            "The total of total sales is 132330\n",
            "The total of percentage_change is 146.49933077363144\n",
            "The total of discount is 6643.999999999999\n",
            "The total of Jan is 25326.2\n",
            "The total of Feb is 31072.043584521387\n",
            "The total of Mar is 19237.932026143793\n",
            "The total of Apr is 26466.3248279513\n",
            "The total of May is 24984.638780993322\n",
            "The total of Jun is 17283.98216243149\n",
            "The total of Jul is 21595.941232794732\n",
            "The total of Aug is 21140.68160431932\n",
            "The total of Sep is 27273.733697347892\n",
            "The total of Oct is 18913.600780429235\n",
            "The total of Nov is 14554.575202156333\n",
            "The total of Dec is 23600.84543168483\n"
          ]
        }
      ]
    },
    {
      "cell_type": "code",
      "source": [
        "for i in df.columns:\n",
        "  print(\"The total of {i} is {s}\".format(i=i,s=np.average(df[i])))"
      ],
      "metadata": {
        "colab": {
          "base_uri": "https://localhost:8080/"
        },
        "id": "hMXtMXn8gK7f",
        "outputId": "50f1d3bd-bd15-470a-bcc7-8f377083b303"
      },
      "execution_count": 24,
      "outputs": [
        {
          "output_type": "stream",
          "name": "stdout",
          "text": [
            "The total of Electronics is 2867.9166666666665\n",
            "The total of Clothing is 2768.3333333333335\n",
            "The total of Home and kitchen is 2753.6666666666665\n",
            "The total of Sports is 2637.5833333333335\n"
          ]
        }
      ]
    },
    {
      "cell_type": "code",
      "source": [
        "df['total sales']=list1\n",
        "df.head()\n",
        "list2=[]\n",
        "for i in range(0, len(df)):\n",
        "    if i==0:\n",
        "     list2.append(100)\n",
        "    else:\n",
        "     previous_sales = df['total sales'].iloc[i - 1]\n",
        "     current_sales = df['total sales'].iloc[i]\n",
        "     change = ((current_sales - previous_sales) / previous_sales) * 100\n",
        "     list2.append(change)\n",
        "df['percentage_change']=list2\n",
        "df.head()\n",
        "list3=[]\n",
        "roll_no=102317245\n",
        "if(roll_no%2==0):\n",
        "  for i in range(0,len(df)):\n",
        "    x=(df['Electronics'].iloc[i]*10/100)\n",
        "    list3.append(x)\n",
        "else:\n",
        "  for i in range(0,len(df)):\n",
        "    x=(df['Clothing'].iloc[i]*20/100)\n",
        "    list3.append(x)\n",
        "df['discount']=list3\n",
        "print(df)\n"
      ],
      "metadata": {
        "colab": {
          "base_uri": "https://localhost:8080/"
        },
        "id": "wqYJ5hYfgY0B",
        "outputId": "6ec10a88-3237-42f1-b97d-19fb59e54e59"
      },
      "execution_count": 50,
      "outputs": [
        {
          "output_type": "stream",
          "name": "stdout",
          "text": [
            "     Electronics  Clothing  Home and kitchen  Sports  total sales  \\\n",
            "Jan         4336      3381              2716    1842        12275   \n",
            "Feb         4513      2237              4795    3755        15300   \n",
            "Mar         1649      1931              1625    4240         9445   \n",
            "Apr         4692      1872              3603    2860        13027   \n",
            "May         2035      4541              1155    4311        12042   \n",
            "Jun         1895      3023              1964    1473         8355   \n",
            "Jul         1691      4139              3441    1101        10372   \n",
            "Aug         3304      3149              2690    1113        10256   \n",
            "Sep         1626      2959              3964    4777        13326   \n",
            "Oct         1579      1970              3669    2057         9275   \n",
            "Nov         2278      1307              1799    1774         7158   \n",
            "Dec         4817      2711              1623    2348        11499   \n",
            "\n",
            "     percentage_change  discount  \n",
            "Jan         100.000000     676.2  \n",
            "Feb          24.643585     447.4  \n",
            "Mar         -38.267974     386.2  \n",
            "Apr          37.924828     374.4  \n",
            "May          -7.561219     908.2  \n",
            "Jun         -30.617838     604.6  \n",
            "Jul          24.141233     827.8  \n",
            "Aug          -1.118396     629.8  \n",
            "Sep          29.933697     591.8  \n",
            "Oct         -30.399220     394.0  \n",
            "Nov         -22.824798     261.4  \n",
            "Dec          60.645432     542.2  \n"
          ]
        }
      ]
    },
    {
      "cell_type": "markdown",
      "source": [
        "Part-III"
      ],
      "metadata": {
        "id": "VC93yJB9oFz4"
      }
    },
    {
      "cell_type": "code",
      "source": [
        "plt.plot(df['Electronics'],label='Electronics')\n",
        "plt.plot(df['Clothing'],label='Clothing')\n",
        "plt.plot(df['Home and kitchen'],label='Home and kitchen')\n",
        "plt.plot(df['Sports'],label='Sports')\n",
        "plt.xlabel(\"month\")\n",
        "plt.ylabel(\"sales\")\n",
        "plt.title(\"Sales of each category\")\n",
        "plt.legend()\n",
        "plt.show()"
      ],
      "metadata": {
        "colab": {
          "base_uri": "https://localhost:8080/",
          "height": 472
        },
        "id": "GGKEZnlDnN6g",
        "outputId": "35b20f58-f6c4-44e0-f895-0a5bb50a07f4"
      },
      "execution_count": 72,
      "outputs": [
        {
          "output_type": "display_data",
          "data": {
            "text/plain": [
              "<Figure size 640x480 with 1 Axes>"
            ],
            "image/png": "[encoded data removed]"
          },
          "metadata": {}
        }
      ]
    },
    {
      "cell_type": "code",
      "source": [
        "import seaborn as sns\n",
        "import matplotlib.pyplot as plt\n",
        "import pandas as pd\n",
        "\n",
        "melted_df = pd.melt(df.iloc[:, :4], var_name=\"Category\", value_name=\"Sales\")\n",
        "\n",
        "sns.boxplot(x=\"Category\", y=\"Sales\", data=melted_df)\n",
        "plt.title(\"Sales Distribution by Category\")\n",
        "plt.xticks(rotation=45, ha='right')\n",
        "\n",
        "plt.show()"
      ],
      "metadata": {
        "colab": {
          "base_uri": "https://localhost:8080/",
          "height": 557
        },
        "id": "c7d76INVonFp",
        "outputId": "fa753607-990b-468c-baa1-636982538fed"
      },
      "execution_count": 71,
      "outputs": [
        {
          "output_type": "display_data",
          "data": {
            "text/plain": [
              "<Figure size 640x480 with 1 Axes>"
            ],
            "image/png": "[encoded data removed]"
          },
          "metadata": {}
        }
      ]
    },
    {
      "cell_type": "markdown",
      "source": [
        "QUE2:"
      ],
      "metadata": {
        "id": "aAIVM9oDvY9X"
      }
    },
    {
      "cell_type": "code",
      "source": [
        "array = np.array([[1, -2, 3],[-4, 5, -6]])\n",
        "np.abs(array)\n",
        "\n",
        "flattened_percentile=np.percentile(array,(25,50,75))\n",
        "print(flattened_percentile)\n",
        "column_percentile=np.percentile(array,(25,50,75),axis=0)\n",
        "print(column_percentile)\n",
        "row_percentile=np.percentile(array,(25,50,75),axis=1)\n",
        "print(row_percentile)\n",
        "print(np.mean(array))\n",
        "print(np.median(array))\n",
        "print(np.std(array))\n",
        "print(row_percentile)\n",
        "print(np.mean(array,axis=0))\n",
        "print(np.median(array,axis=0))\n",
        "print(np.std(array,axis=0))\n",
        "print(np.mean(array,axis=1))\n",
        "print(np.median(array,axis=1))\n",
        "print(np.std(array,axis=1))\n"
      ],
      "metadata": {
        "colab": {
          "base_uri": "https://localhost:8080/"
        },
        "id": "s7LYzVtHowhv",
        "outputId": "067bd9be-98e7-41ec-a7cd-123195e6f9db"
      },
      "execution_count": 80,
      "outputs": [
        {
          "output_type": "stream",
          "name": "stdout",
          "text": [
            "[-3.5 -0.5  2.5]\n",
            "[[-2.75 -0.25 -3.75]\n",
            " [-1.5   1.5  -1.5 ]\n",
            " [-0.25  3.25  0.75]]\n",
            "[[-0.5 -5. ]\n",
            " [ 1.  -4. ]\n",
            " [ 2.   0.5]]\n",
            "-0.5\n",
            "-0.5\n",
            "3.8622100754188224\n",
            "[[-0.5 -5. ]\n",
            " [ 1.  -4. ]\n",
            " [ 2.   0.5]]\n",
            "[-1.5  1.5 -1.5]\n",
            "[-1.5  1.5 -1.5]\n",
            "[2.5 3.5 4.5]\n",
            "[ 0.66666667 -1.66666667]\n",
            "[ 1. -4.]\n",
            "[2.05480467 4.78423336]\n"
          ]
        }
      ]
    },
    {
      "cell_type": "markdown",
      "source": [
        "QUE3:"
      ],
      "metadata": {
        "id": "G320DxPezvJ6"
      }
    },
    {
      "cell_type": "code",
      "source": [
        "a = np.array([-1.8, -1.6, -0.5, 0.5,1.6, 1.8, 3.0])\n",
        "print(np.round(a))\n",
        "print(np.trunc(a))\n",
        "print(np.ceil(a))\n",
        "print(np.floor(a))"
      ],
      "metadata": {
        "colab": {
          "base_uri": "https://localhost:8080/"
        },
        "id": "wmnPg-Rizuuv",
        "outputId": "be24ceda-d5a5-4ce2-98ad-17dadf0fd56f"
      },
      "execution_count": 81,
      "outputs": [
        {
          "output_type": "stream",
          "name": "stdout",
          "text": [
            "[-2. -2. -0.  0.  2.  2.  3.]\n",
            "[-1. -1. -0.  0.  1.  1.  3.]\n",
            "[-1. -1. -0.  1.  2.  2.  3.]\n",
            "[-2. -2. -1.  0.  1.  1.  3.]\n"
          ]
        }
      ]
    },
    {
      "cell_type": "markdown",
      "source": [
        "QUE4:"
      ],
      "metadata": {
        "id": "sGYy_FYQ0XPs"
      }
    },
    {
      "cell_type": "code",
      "source": [
        "list1=[3,4]\n",
        "temp=list1[0]\n",
        "list1[0]=list1[1]\n",
        "list1[1]=temp\n",
        "print(list1)"
      ],
      "metadata": {
        "colab": {
          "base_uri": "https://localhost:8080/"
        },
        "id": "hQETTHDr0ZrP",
        "outputId": "e9e9d7a0-e16b-4590-a5cf-1ad054d47f4c"
      },
      "execution_count": 83,
      "outputs": [
        {
          "output_type": "stream",
          "name": "stdout",
          "text": [
            "[4, 3]\n"
          ]
        }
      ]
    },
    {
      "cell_type": "markdown",
      "source": [
        "QUE5:"
      ],
      "metadata": {
        "id": "pOwOFyFW02k7"
      }
    },
    {
      "cell_type": "code",
      "source": [
        "set1={1,2}\n",
        "list1=list(set1)\n",
        "temp=list1[0]\n",
        "list1[0]=list1[1]\n",
        "list1[1]=temp\n",
        "print(list1)\n",
        "set1=set(list1)\n",
        "print(set1)"
      ],
      "metadata": {
        "colab": {
          "base_uri": "https://localhost:8080/"
        },
        "id": "XmN0icom035z",
        "outputId": "5f5d29de-d57a-4b67-84db-f57bb5e3a00f"
      },
      "execution_count": 86,
      "outputs": [
        {
          "output_type": "stream",
          "name": "stdout",
          "text": [
            "[2, 1]\n",
            "{1, 2}\n"
          ]
        }
      ]
    }
  ]
}